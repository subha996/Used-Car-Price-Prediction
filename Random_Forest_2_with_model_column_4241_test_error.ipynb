{
 "cells": [
  {
   "cell_type": "markdown",
   "metadata": {},
   "source": [
    "\n",
    "<h1 align=\"center\">Used Car Price Prediction</h1> \n",
    "\n",
    "<h3 align=\"center\">Random Forest Regressor</h3> \n",
    "\n",
    "---------------------------------------------------------------------------------------------------------------------------"
   ]
  },
  {
   "cell_type": "markdown",
   "metadata": {
    "id": "s5XecB23zNcR"
   },
   "source": [
    "Importing relevent library"
   ]
  },
  {
   "cell_type": "code",
   "execution_count": 1,
   "metadata": {
    "id": "5wdsHfEer3Ge"
   },
   "outputs": [],
   "source": [
    "import pandas as pd\n",
    "import numpy as np\n",
    "import statsmodels.api as sm\n",
    "import matplotlib.pyplot as plt\n",
    "import seaborn as sns\n",
    "import warnings\n",
    "warnings.filterwarnings('ignore')\n",
    "\n",
    "sns.set() # all plot will cover on seaborn style"
   ]
  },
  {
   "cell_type": "code",
   "execution_count": 2,
   "metadata": {
    "colab": {
     "base_uri": "https://localhost:8080/",
     "height": 203
    },
    "id": "bXbKRmOhtgkg",
    "outputId": "6cb178de-a538-43ba-df5b-21ee1855ee62"
   },
   "outputs": [
    {
     "data": {
      "text/html": [
       "<div>\n",
       "<style scoped>\n",
       "    .dataframe tbody tr th:only-of-type {\n",
       "        vertical-align: middle;\n",
       "    }\n",
       "\n",
       "    .dataframe tbody tr th {\n",
       "        vertical-align: top;\n",
       "    }\n",
       "\n",
       "    .dataframe thead th {\n",
       "        text-align: right;\n",
       "    }\n",
       "</style>\n",
       "<table border=\"1\" class=\"dataframe\">\n",
       "  <thead>\n",
       "    <tr style=\"text-align: right;\">\n",
       "      <th></th>\n",
       "      <th>Brand</th>\n",
       "      <th>Price</th>\n",
       "      <th>Body</th>\n",
       "      <th>Mileage</th>\n",
       "      <th>EngineV</th>\n",
       "      <th>Engine Type</th>\n",
       "      <th>Registration</th>\n",
       "      <th>Year</th>\n",
       "      <th>Model</th>\n",
       "    </tr>\n",
       "  </thead>\n",
       "  <tbody>\n",
       "    <tr>\n",
       "      <th>0</th>\n",
       "      <td>BMW</td>\n",
       "      <td>4200.0</td>\n",
       "      <td>sedan</td>\n",
       "      <td>277</td>\n",
       "      <td>2.0</td>\n",
       "      <td>Petrol</td>\n",
       "      <td>yes</td>\n",
       "      <td>1991</td>\n",
       "      <td>320</td>\n",
       "    </tr>\n",
       "    <tr>\n",
       "      <th>1</th>\n",
       "      <td>Mercedes-Benz</td>\n",
       "      <td>7900.0</td>\n",
       "      <td>van</td>\n",
       "      <td>427</td>\n",
       "      <td>2.9</td>\n",
       "      <td>Diesel</td>\n",
       "      <td>yes</td>\n",
       "      <td>1999</td>\n",
       "      <td>Sprinter 212</td>\n",
       "    </tr>\n",
       "    <tr>\n",
       "      <th>2</th>\n",
       "      <td>Mercedes-Benz</td>\n",
       "      <td>13300.0</td>\n",
       "      <td>sedan</td>\n",
       "      <td>358</td>\n",
       "      <td>5.0</td>\n",
       "      <td>Gas</td>\n",
       "      <td>yes</td>\n",
       "      <td>2003</td>\n",
       "      <td>S 500</td>\n",
       "    </tr>\n",
       "    <tr>\n",
       "      <th>3</th>\n",
       "      <td>Audi</td>\n",
       "      <td>23000.0</td>\n",
       "      <td>crossover</td>\n",
       "      <td>240</td>\n",
       "      <td>4.2</td>\n",
       "      <td>Petrol</td>\n",
       "      <td>yes</td>\n",
       "      <td>2007</td>\n",
       "      <td>Q7</td>\n",
       "    </tr>\n",
       "    <tr>\n",
       "      <th>4</th>\n",
       "      <td>Toyota</td>\n",
       "      <td>18300.0</td>\n",
       "      <td>crossover</td>\n",
       "      <td>120</td>\n",
       "      <td>2.0</td>\n",
       "      <td>Petrol</td>\n",
       "      <td>yes</td>\n",
       "      <td>2011</td>\n",
       "      <td>Rav 4</td>\n",
       "    </tr>\n",
       "  </tbody>\n",
       "</table>\n",
       "</div>"
      ],
      "text/plain": [
       "           Brand    Price       Body  Mileage  EngineV Engine Type  \\\n",
       "0            BMW   4200.0      sedan      277      2.0      Petrol   \n",
       "1  Mercedes-Benz   7900.0        van      427      2.9      Diesel   \n",
       "2  Mercedes-Benz  13300.0      sedan      358      5.0         Gas   \n",
       "3           Audi  23000.0  crossover      240      4.2      Petrol   \n",
       "4         Toyota  18300.0  crossover      120      2.0      Petrol   \n",
       "\n",
       "  Registration  Year         Model  \n",
       "0          yes  1991           320  \n",
       "1          yes  1999  Sprinter 212  \n",
       "2          yes  2003         S 500  \n",
       "3          yes  2007            Q7  \n",
       "4          yes  2011         Rav 4  "
      ]
     },
     "execution_count": 2,
     "metadata": {},
     "output_type": "execute_result"
    }
   ],
   "source": [
    "# Loding the data.\n",
    "car = pd.read_csv('data\\Car_cleaned_with_Model.csv')\n",
    "car.head()"
   ]
  },
  {
   "cell_type": "markdown",
   "metadata": {
    "id": "ohPUBBZMzZmo"
   },
   "source": [
    "Now I will create dictionary for every categoriacl column for gtting their dummy number for there categorcal label. It will be used in later stage in time of web app creation "
   ]
  },
  {
   "cell_type": "code",
   "execution_count": 3,
   "metadata": {
    "id": "A2SPIZ01z7TR"
   },
   "outputs": [],
   "source": [
    "# creating dictionary for every categoricla column\n",
    "brand_dic = dict()\n",
    "body_dic = dict()\n",
    "engine_type_dic = dict()\n",
    "registration_dic = dict()\n",
    "model_dic =dict()"
   ]
  },
  {
   "cell_type": "code",
   "execution_count": 4,
   "metadata": {
    "colab": {
     "base_uri": "https://localhost:8080/",
     "height": 287
    },
    "id": "-SNftrZ9tj8Y",
    "outputId": "44d10c9c-9378-4feb-9182-1ee53f39a9eb"
   },
   "outputs": [
    {
     "name": "stdout",
     "output_type": "stream",
     "text": [
      "Brand Label saved\n",
      "Body label saved\n",
      "Engine type label saved\n",
      "Registration label saved\n",
      "Model label saved\n"
     ]
    },
    {
     "data": {
      "text/html": [
       "<div>\n",
       "<style scoped>\n",
       "    .dataframe tbody tr th:only-of-type {\n",
       "        vertical-align: middle;\n",
       "    }\n",
       "\n",
       "    .dataframe tbody tr th {\n",
       "        vertical-align: top;\n",
       "    }\n",
       "\n",
       "    .dataframe thead th {\n",
       "        text-align: right;\n",
       "    }\n",
       "</style>\n",
       "<table border=\"1\" class=\"dataframe\">\n",
       "  <thead>\n",
       "    <tr style=\"text-align: right;\">\n",
       "      <th></th>\n",
       "      <th>Price</th>\n",
       "      <th>Mileage</th>\n",
       "      <th>EngineV</th>\n",
       "      <th>Year</th>\n",
       "      <th>brand_enc</th>\n",
       "      <th>body_enc</th>\n",
       "      <th>engine_type_enc</th>\n",
       "      <th>regis_enc</th>\n",
       "      <th>model_enc</th>\n",
       "    </tr>\n",
       "  </thead>\n",
       "  <tbody>\n",
       "    <tr>\n",
       "      <th>0</th>\n",
       "      <td>4200.0</td>\n",
       "      <td>277</td>\n",
       "      <td>2.0</td>\n",
       "      <td>1991</td>\n",
       "      <td>1</td>\n",
       "      <td>3</td>\n",
       "      <td>3</td>\n",
       "      <td>1</td>\n",
       "      <td>17</td>\n",
       "    </tr>\n",
       "    <tr>\n",
       "      <th>1</th>\n",
       "      <td>7900.0</td>\n",
       "      <td>427</td>\n",
       "      <td>2.9</td>\n",
       "      <td>1999</td>\n",
       "      <td>2</td>\n",
       "      <td>5</td>\n",
       "      <td>0</td>\n",
       "      <td>1</td>\n",
       "      <td>248</td>\n",
       "    </tr>\n",
       "    <tr>\n",
       "      <th>2</th>\n",
       "      <td>13300.0</td>\n",
       "      <td>358</td>\n",
       "      <td>5.0</td>\n",
       "      <td>2003</td>\n",
       "      <td>2</td>\n",
       "      <td>3</td>\n",
       "      <td>1</td>\n",
       "      <td>1</td>\n",
       "      <td>222</td>\n",
       "    </tr>\n",
       "    <tr>\n",
       "      <th>3</th>\n",
       "      <td>23000.0</td>\n",
       "      <td>240</td>\n",
       "      <td>4.2</td>\n",
       "      <td>2007</td>\n",
       "      <td>0</td>\n",
       "      <td>0</td>\n",
       "      <td>3</td>\n",
       "      <td>1</td>\n",
       "      <td>211</td>\n",
       "    </tr>\n",
       "    <tr>\n",
       "      <th>4</th>\n",
       "      <td>18300.0</td>\n",
       "      <td>120</td>\n",
       "      <td>2.0</td>\n",
       "      <td>2011</td>\n",
       "      <td>5</td>\n",
       "      <td>0</td>\n",
       "      <td>3</td>\n",
       "      <td>1</td>\n",
       "      <td>214</td>\n",
       "    </tr>\n",
       "  </tbody>\n",
       "</table>\n",
       "</div>"
      ],
      "text/plain": [
       "     Price  Mileage  EngineV  Year  brand_enc  body_enc  engine_type_enc  \\\n",
       "0   4200.0      277      2.0  1991          1         3                3   \n",
       "1   7900.0      427      2.9  1999          2         5                0   \n",
       "2  13300.0      358      5.0  2003          2         3                1   \n",
       "3  23000.0      240      4.2  2007          0         0                3   \n",
       "4  18300.0      120      2.0  2011          5         0                3   \n",
       "\n",
       "   regis_enc  model_enc  \n",
       "0          1         17  \n",
       "1          1        248  \n",
       "2          1        222  \n",
       "3          1        211  \n",
       "4          1        214  "
      ]
     },
     "execution_count": 4,
     "metadata": {},
     "output_type": "execute_result"
    }
   ],
   "source": [
    "# Creating encoding column for categorical columns only\n",
    "from sklearn.preprocessing import LabelEncoder\n",
    "# creating an instance of the labelEncoder\n",
    "le = LabelEncoder()\n",
    "\n",
    "\n",
    "# Brand column\n",
    "car['brand_enc'] = le.fit_transform(car['Brand'])\n",
    "for num, lbl in enumerate(le.classes_):\n",
    "  brand_dic[lbl] = num\n",
    "print('Brand Label saved')\n",
    "\n",
    "# Body column\n",
    "car['body_enc'] = le.fit_transform(car['Body'])\n",
    "for num, lbl in enumerate(le.classes_):\n",
    "  body_dic[lbl] = num\n",
    "print('Body label saved')\n",
    "\n",
    "\n",
    "# Engine type\n",
    "car['engine_type_enc'] = le.fit_transform(car['Engine Type'])\n",
    "for num, lbl in enumerate(le.classes_):\n",
    "  engine_type_dic[lbl]=num\n",
    "print('Engine type label saved')\n",
    "\n",
    "# Registration column\n",
    "car['regis_enc'] = le.fit_transform(car['Registration'])\n",
    "for num, lbl in enumerate(le.classes_):\n",
    "  registration_dic[lbl]=num\n",
    "print('Registration label saved')\n",
    "\n",
    "# Model\n",
    "car['model_enc'] = le.fit_transform(car['Model'])\n",
    "for num, lbl in enumerate(le.classes_):\n",
    "  model_dic[lbl]=num\n",
    "print('Model label saved')\n",
    "\n",
    "# droping the old categorical column\n",
    "car_2 = car.drop(['Brand', 'Body', 'Engine Type', 'Registration', 'Model'], axis=1)\n",
    "\n",
    "car_2.head()"
   ]
  },
  {
   "cell_type": "markdown",
   "metadata": {
    "id": "pRdEex5L2jHW"
   },
   "source": [
    "### Now as It known theat tree based model are very powerfull and also the ensemble approch `RandomForest` is very powerfull and mostely used machine learning algorithms. the main advantage it is not required longer data preprocessing. and aldo gives better result."
   ]
  },
  {
   "cell_type": "code",
   "execution_count": 5,
   "metadata": {
    "colab": {
     "base_uri": "https://localhost:8080/"
    },
    "id": "78oeaURYto94",
    "outputId": "2e6af43a-05e1-47a2-bf9b-00049cc3e832"
   },
   "outputs": [
    {
     "data": {
      "text/plain": [
       "((3867, 8), (3867,))"
      ]
     },
     "execution_count": 5,
     "metadata": {},
     "output_type": "execute_result"
    }
   ],
   "source": [
    "# takking X and y\n",
    "X = car_2.drop('Price', axis=1)\n",
    "y = car_2['Price']\n",
    "\n",
    "X.shape, y.shape"
   ]
  },
  {
   "cell_type": "code",
   "execution_count": 6,
   "metadata": {
    "colab": {
     "base_uri": "https://localhost:8080/"
    },
    "id": "GIbxFmrtt8qJ",
    "outputId": "4c8190cf-4b82-4a46-ea30-085987ee612b"
   },
   "outputs": [
    {
     "data": {
      "text/plain": [
       "((3093, 8), (3093,), (774, 8), (774,))"
      ]
     },
     "execution_count": 6,
     "metadata": {},
     "output_type": "execute_result"
    }
   ],
   "source": [
    "# train test split\n",
    "from sklearn.model_selection import train_test_split\n",
    "\n",
    "X_train, X_test, y_train, y_test = train_test_split(X, y, test_size=0.2, random_state=32)\n",
    "\n",
    "X_train.shape, y_train.shape, X_test.shape, y_test.shape"
   ]
  },
  {
   "cell_type": "code",
   "execution_count": 7,
   "metadata": {
    "colab": {
     "base_uri": "https://localhost:8080/"
    },
    "id": "WUleMcrKuA7Q",
    "outputId": "f3bc1c96-c5ff-49a6-861d-61cb9cfc17b7"
   },
   "outputs": [
    {
     "data": {
      "text/plain": [
       "{'bootstrap': True,\n",
       " 'ccp_alpha': 0.0,\n",
       " 'criterion': 'mse',\n",
       " 'max_depth': None,\n",
       " 'max_features': 'auto',\n",
       " 'max_leaf_nodes': None,\n",
       " 'max_samples': None,\n",
       " 'min_impurity_decrease': 0.0,\n",
       " 'min_impurity_split': None,\n",
       " 'min_samples_leaf': 1,\n",
       " 'min_samples_split': 2,\n",
       " 'min_weight_fraction_leaf': 0.0,\n",
       " 'n_estimators': 100,\n",
       " 'n_jobs': None,\n",
       " 'oob_score': False,\n",
       " 'random_state': None,\n",
       " 'verbose': 0,\n",
       " 'warm_start': False}"
      ]
     },
     "execution_count": 7,
     "metadata": {},
     "output_type": "execute_result"
    }
   ],
   "source": [
    "# importing RandomForest Regressior\n",
    "from sklearn.ensemble import  RandomForestRegressor\n",
    "\n",
    "# creating instance of randomforest regressor\n",
    "rf_1 = RandomForestRegressor()\n",
    "\n",
    "# checking the hyperparameter of the randomforest \n",
    "rf_1.get_params()"
   ]
  },
  {
   "cell_type": "code",
   "execution_count": 8,
   "metadata": {
    "colab": {
     "base_uri": "https://localhost:8080/"
    },
    "id": "0a_B07RZuCXH",
    "outputId": "e030101a-e97e-430f-f257-762cb61793d6"
   },
   "outputs": [
    {
     "data": {
      "text/plain": [
       "RandomForestRegressor()"
      ]
     },
     "execution_count": 8,
     "metadata": {},
     "output_type": "execute_result"
    }
   ],
   "source": [
    "# first i will create a base model then i will go for hyperparameter tuning.\n",
    "rf_1.fit(X_train, y_train)"
   ]
  },
  {
   "cell_type": "code",
   "execution_count": 9,
   "metadata": {
    "colab": {
     "base_uri": "https://localhost:8080/"
    },
    "id": "3wHnoIsuuD4A",
    "outputId": "ce345d4d-22d9-4368-eef6-e8248955d442"
   },
   "outputs": [
    {
     "name": "stdout",
     "output_type": "stream",
     "text": [
      "RMSE on Traning data 1947.5618233533887\n"
     ]
    }
   ],
   "source": [
    "# checking the perofrmance on the training\n",
    "y_pred_train = rf_1.predict(X_train)\n",
    "\n",
    "# importing the rmse from sklearn\n",
    "from sklearn.metrics import  mean_squared_error\n",
    "\n",
    "rmse_train = np.sqrt(mean_squared_error(y_train, y_pred_train))\n",
    "\n",
    "print('RMSE on Traning data {}'.format(rmse_train))\n"
   ]
  },
  {
   "cell_type": "code",
   "execution_count": 10,
   "metadata": {
    "colab": {
     "base_uri": "https://localhost:8080/"
    },
    "id": "QbI4fitluFY3",
    "outputId": "3b09d58d-08d7-4b56-c748-dcc366a26bda"
   },
   "outputs": [
    {
     "name": "stdout",
     "output_type": "stream",
     "text": [
      "RMSE on Testing data 4892.101162049404\n"
     ]
    }
   ],
   "source": [
    "# error on testing data\n",
    "y_pred_test = rf_1.predict(X_test)\n",
    "\n",
    "rmse_test = np.sqrt(mean_squared_error(y_test, y_pred_test))\n",
    "\n",
    "print('RMSE on Testing data {}'.format(rmse_test))"
   ]
  },
  {
   "cell_type": "code",
   "execution_count": 13,
   "metadata": {},
   "outputs": [
    {
     "name": "stdout",
     "output_type": "stream",
     "text": [
      "Traning Score: 0.9892819354473137\n"
     ]
    }
   ],
   "source": [
    "# chceking the socre on traning data.\n",
    "from sklearn.metrics import r2_score\n",
    "\n",
    "y_pred_train = rf_1.predict(X_train)\n",
    "\n",
    "print('Traning Score: {}'.format(r2_score(y_train, y_pred_train)))"
   ]
  },
  {
   "cell_type": "code",
   "execution_count": 14,
   "metadata": {
    "colab": {
     "base_uri": "https://localhost:8080/"
    },
    "id": "JLX0bMZSuH2A",
    "outputId": "1d1edd6e-3c8e-45c7-d8ac-fb2030677235"
   },
   "outputs": [
    {
     "name": "stdout",
     "output_type": "stream",
     "text": [
      "Testing Score: 0.9409183787795775\n"
     ]
    }
   ],
   "source": [
    "# chceking the socre for testing.\n",
    "\n",
    "y_pred_test = rf_1.predict(X_test)\n",
    "print('Testing Score: {}'.format(r2_score(y_test, y_pred_test)))"
   ]
  },
  {
   "cell_type": "code",
   "execution_count": 15,
   "metadata": {
    "colab": {
     "base_uri": "https://localhost:8080/",
     "height": 464
    },
    "id": "UwGhVqlkLzyt",
    "outputId": "b1bf6ed0-d840-41f7-8912-c7e568669760"
   },
   "outputs": [
    {
     "data": {
      "image/png": "[encoded data removed]",
      "text/plain": [
       "<Figure size 1224x504 with 2 Axes>"
      ]
     },
     "metadata": {},
     "output_type": "display_data"
    }
   ],
   "source": [
    "# plotting the traning\n",
    "# check the prediction with the original values\n",
    "plt.figure(figsize=(17,7))\n",
    "y_pred_train = rf_1.predict(X_train)\n",
    "plt.subplot(1,2,1)\n",
    "plt.scatter(y_train, y_pred_train, alpha=0.2);\n",
    "plt.xlabel('Targets (y_train)');\n",
    "plt.ylabel('Predictions (y_pred)');\n",
    "plt.title('Traning Time');\n",
    "\n",
    "# plotting testing error\n",
    "y_pred_test = rf_1.predict(X_test)\n",
    "plt.subplot(1,2,2)\n",
    "plt.scatter(y_test, y_pred_test, alpha=0.2);\n",
    "plt.xlabel('Targets (y_test)');\n",
    "plt.ylabel('Predictions (y_pred_train)');\n",
    "plt.title('Testing Time');\n"
   ]
  },
  {
   "cell_type": "markdown",
   "metadata": {},
   "source": [
    "## Checking the residual for base model."
   ]
  },
  {
   "cell_type": "code",
   "execution_count": 17,
   "metadata": {},
   "outputs": [
    {
     "data": {
      "image/png": "[encoded data removed]",
      "text/plain": [
       "<Figure size 1224x504 with 2 Axes>"
      ]
     },
     "metadata": {},
     "output_type": "display_data"
    }
   ],
   "source": [
    "# plotting the distribution of the residual\n",
    "residual_train = (y_train - rf_1.predict(X_train))\n",
    "residual_test = (y_test - rf_1.predict(X_test))\n",
    "\n",
    "# ploting the distribution of the residual on training\n",
    "plt.figure(figsize=(17,7))\n",
    "plt.subplot(1,2,1)\n",
    "sns.distplot(residual_train);\n",
    "plt.title('Traning Residual PDF');\n",
    "\n",
    "# ploting the distribution of the residual\n",
    "plt.subplot(1,2,2)\n",
    "sns.distplot(residual_test);\n",
    "plt.title('Testting Residual PDF');"
   ]
  },
  {
   "cell_type": "code",
   "execution_count": 18,
   "metadata": {},
   "outputs": [
    {
     "data": {
      "text/html": [
       "<div>\n",
       "<style scoped>\n",
       "    .dataframe tbody tr th:only-of-type {\n",
       "        vertical-align: middle;\n",
       "    }\n",
       "\n",
       "    .dataframe tbody tr th {\n",
       "        vertical-align: top;\n",
       "    }\n",
       "\n",
       "    .dataframe thead th {\n",
       "        text-align: right;\n",
       "    }\n",
       "</style>\n",
       "<table border=\"1\" class=\"dataframe\">\n",
       "  <thead>\n",
       "    <tr style=\"text-align: right;\">\n",
       "      <th></th>\n",
       "      <th>Prediction</th>\n",
       "      <th>Tareget</th>\n",
       "      <th>Residual</th>\n",
       "      <th>Difference%</th>\n",
       "    </tr>\n",
       "  </thead>\n",
       "  <tbody>\n",
       "    <tr>\n",
       "      <th>0</th>\n",
       "      <td>17498.410000</td>\n",
       "      <td>19000.0</td>\n",
       "      <td>1501.590000</td>\n",
       "      <td>7.903105</td>\n",
       "    </tr>\n",
       "    <tr>\n",
       "      <th>1</th>\n",
       "      <td>6190.120000</td>\n",
       "      <td>5500.0</td>\n",
       "      <td>-690.120000</td>\n",
       "      <td>12.547636</td>\n",
       "    </tr>\n",
       "    <tr>\n",
       "      <th>2</th>\n",
       "      <td>25619.533333</td>\n",
       "      <td>19200.0</td>\n",
       "      <td>-6419.533333</td>\n",
       "      <td>33.435069</td>\n",
       "    </tr>\n",
       "    <tr>\n",
       "      <th>3</th>\n",
       "      <td>12742.930000</td>\n",
       "      <td>11900.0</td>\n",
       "      <td>-842.930000</td>\n",
       "      <td>7.083445</td>\n",
       "    </tr>\n",
       "    <tr>\n",
       "      <th>4</th>\n",
       "      <td>8624.430000</td>\n",
       "      <td>7750.0</td>\n",
       "      <td>-874.430000</td>\n",
       "      <td>11.282968</td>\n",
       "    </tr>\n",
       "    <tr>\n",
       "      <th>...</th>\n",
       "      <td>...</td>\n",
       "      <td>...</td>\n",
       "      <td>...</td>\n",
       "      <td>...</td>\n",
       "    </tr>\n",
       "    <tr>\n",
       "      <th>769</th>\n",
       "      <td>104401.550000</td>\n",
       "      <td>116500.0</td>\n",
       "      <td>12098.450000</td>\n",
       "      <td>10.384936</td>\n",
       "    </tr>\n",
       "    <tr>\n",
       "      <th>770</th>\n",
       "      <td>10774.450000</td>\n",
       "      <td>13200.0</td>\n",
       "      <td>2425.550000</td>\n",
       "      <td>18.375379</td>\n",
       "    </tr>\n",
       "    <tr>\n",
       "      <th>771</th>\n",
       "      <td>28229.624892</td>\n",
       "      <td>27500.0</td>\n",
       "      <td>-729.624892</td>\n",
       "      <td>2.653181</td>\n",
       "    </tr>\n",
       "    <tr>\n",
       "      <th>772</th>\n",
       "      <td>15036.070000</td>\n",
       "      <td>16500.0</td>\n",
       "      <td>1463.930000</td>\n",
       "      <td>8.872303</td>\n",
       "    </tr>\n",
       "    <tr>\n",
       "      <th>773</th>\n",
       "      <td>11477.560000</td>\n",
       "      <td>11900.0</td>\n",
       "      <td>422.440000</td>\n",
       "      <td>3.549916</td>\n",
       "    </tr>\n",
       "  </tbody>\n",
       "</table>\n",
       "<p>774 rows × 4 columns</p>\n",
       "</div>"
      ],
      "text/plain": [
       "        Prediction   Tareget      Residual  Difference%\n",
       "0     17498.410000   19000.0   1501.590000     7.903105\n",
       "1      6190.120000    5500.0   -690.120000    12.547636\n",
       "2     25619.533333   19200.0  -6419.533333    33.435069\n",
       "3     12742.930000   11900.0   -842.930000     7.083445\n",
       "4      8624.430000    7750.0   -874.430000    11.282968\n",
       "..             ...       ...           ...          ...\n",
       "769  104401.550000  116500.0  12098.450000    10.384936\n",
       "770   10774.450000   13200.0   2425.550000    18.375379\n",
       "771   28229.624892   27500.0   -729.624892     2.653181\n",
       "772   15036.070000   16500.0   1463.930000     8.872303\n",
       "773   11477.560000   11900.0    422.440000     3.549916\n",
       "\n",
       "[774 rows x 4 columns]"
      ]
     },
     "execution_count": 18,
     "metadata": {},
     "output_type": "execute_result"
    }
   ],
   "source": [
    "# Creating a dataframe to compare the result and prediction.\n",
    "df_eval = pd.DataFrame(rf_1.predict(X_test), columns=['Prediction'])\n",
    "# adding column\n",
    "y_test = y_test.reset_index(drop=True)\n",
    "df_eval['Tareget'] = y_test\n",
    "\n",
    "# creating residual columns and difference column\n",
    "df_eval['Residual'] = df_eval['Tareget'] - df_eval['Prediction']\n",
    "df_eval['Difference%'] = np.absolute(df_eval['Residual'] / df_eval['Tareget']*100)\n",
    "# checking the performance data \n",
    "df_eval"
   ]
  },
  {
   "cell_type": "code",
   "execution_count": 19,
   "metadata": {},
   "outputs": [
    {
     "data": {
      "text/html": [
       "<div>\n",
       "<style scoped>\n",
       "    .dataframe tbody tr th:only-of-type {\n",
       "        vertical-align: middle;\n",
       "    }\n",
       "\n",
       "    .dataframe tbody tr th {\n",
       "        vertical-align: top;\n",
       "    }\n",
       "\n",
       "    .dataframe thead th {\n",
       "        text-align: right;\n",
       "    }\n",
       "</style>\n",
       "<table border=\"1\" class=\"dataframe\">\n",
       "  <thead>\n",
       "    <tr style=\"text-align: right;\">\n",
       "      <th></th>\n",
       "      <th>Prediction</th>\n",
       "      <th>Tareget</th>\n",
       "      <th>Residual</th>\n",
       "      <th>Difference%</th>\n",
       "    </tr>\n",
       "  </thead>\n",
       "  <tbody>\n",
       "    <tr>\n",
       "      <th>count</th>\n",
       "      <td>774.000000</td>\n",
       "      <td>774.000000</td>\n",
       "      <td>774.000000</td>\n",
       "      <td>774.000000</td>\n",
       "    </tr>\n",
       "    <tr>\n",
       "      <th>mean</th>\n",
       "      <td>18784.068496</td>\n",
       "      <td>18602.017829</td>\n",
       "      <td>-182.050666</td>\n",
       "      <td>16.984438</td>\n",
       "    </tr>\n",
       "    <tr>\n",
       "      <th>std</th>\n",
       "      <td>19384.946651</td>\n",
       "      <td>20139.559184</td>\n",
       "      <td>4891.873793</td>\n",
       "      <td>29.197031</td>\n",
       "    </tr>\n",
       "    <tr>\n",
       "      <th>min</th>\n",
       "      <td>1830.600000</td>\n",
       "      <td>1200.000000</td>\n",
       "      <td>-35080.320000</td>\n",
       "      <td>0.000000</td>\n",
       "    </tr>\n",
       "    <tr>\n",
       "      <th>25%</th>\n",
       "      <td>7891.570000</td>\n",
       "      <td>7500.000000</td>\n",
       "      <td>-1384.268333</td>\n",
       "      <td>4.254708</td>\n",
       "    </tr>\n",
       "    <tr>\n",
       "      <th>50%</th>\n",
       "      <td>11835.660000</td>\n",
       "      <td>11900.000000</td>\n",
       "      <td>-154.926667</td>\n",
       "      <td>9.988052</td>\n",
       "    </tr>\n",
       "    <tr>\n",
       "      <th>75%</th>\n",
       "      <td>21538.642500</td>\n",
       "      <td>20999.060000</td>\n",
       "      <td>1055.155000</td>\n",
       "      <td>19.924159</td>\n",
       "    </tr>\n",
       "    <tr>\n",
       "      <th>max</th>\n",
       "      <td>123158.000000</td>\n",
       "      <td>125000.000000</td>\n",
       "      <td>48478.800833</td>\n",
       "      <td>510.388780</td>\n",
       "    </tr>\n",
       "  </tbody>\n",
       "</table>\n",
       "</div>"
      ],
      "text/plain": [
       "          Prediction        Tareget      Residual  Difference%\n",
       "count     774.000000     774.000000    774.000000   774.000000\n",
       "mean    18784.068496   18602.017829   -182.050666    16.984438\n",
       "std     19384.946651   20139.559184   4891.873793    29.197031\n",
       "min      1830.600000    1200.000000 -35080.320000     0.000000\n",
       "25%      7891.570000    7500.000000  -1384.268333     4.254708\n",
       "50%     11835.660000   11900.000000   -154.926667     9.988052\n",
       "75%     21538.642500   20999.060000   1055.155000    19.924159\n",
       "max    123158.000000  125000.000000  48478.800833   510.388780"
      ]
     },
     "execution_count": 19,
     "metadata": {},
     "output_type": "execute_result"
    }
   ],
   "source": [
    "# description of the eval_df\n",
    "df_eval.describe()"
   ]
  },
  {
   "cell_type": "markdown",
   "metadata": {
    "id": "hyYKvI2wuKVJ"
   },
   "source": [
    "### Now I will tune the hyperparameter to make more generalize model."
   ]
  },
  {
   "cell_type": "code",
   "execution_count": 13,
   "metadata": {
    "id": "sPFgffOA3Xqv"
   },
   "outputs": [
    {
     "name": "stdout",
     "output_type": "stream",
     "text": [
      "Fitting 3 folds for each of 100 candidates, totalling 300 fits\n"
     ]
    },
    {
     "name": "stderr",
     "output_type": "stream",
     "text": [
      "[Parallel(n_jobs=-1)]: Using backend LokyBackend with 8 concurrent workers.\n",
      "[Parallel(n_jobs=-1)]: Done   2 tasks      | elapsed:    4.7s\n",
      "[Parallel(n_jobs=-1)]: Done  25 tasks      | elapsed:    7.8s\n",
      "[Parallel(n_jobs=-1)]: Done  56 tasks      | elapsed:   10.9s\n",
      "[Parallel(n_jobs=-1)]: Done  97 tasks      | elapsed:   16.1s\n",
      "[Parallel(n_jobs=-1)]: Done 146 tasks      | elapsed:   21.8s\n",
      "[Parallel(n_jobs=-1)]: Done 205 tasks      | elapsed:   30.6s\n",
      "[Parallel(n_jobs=-1)]: Done 272 tasks      | elapsed:   38.3s\n",
      "[Parallel(n_jobs=-1)]: Done 300 out of 300 | elapsed:   43.3s finished\n"
     ]
    },
    {
     "data": {
      "text/plain": [
       "RandomizedSearchCV(cv=3, estimator=RandomForestRegressor(), n_iter=100,\n",
       "                   n_jobs=-1,\n",
       "                   param_distributions={'bootstrap': [True, False],\n",
       "                                        'max_depth': [10, 20, 30, 40, 50, None],\n",
       "                                        'max_features': ['auto', 'sqrt'],\n",
       "                                        'min_samples_leaf': [1, 2, 4],\n",
       "                                        'min_samples_split': [2, 5, 7],\n",
       "                                        'n_estimators': [100, 200]},\n",
       "                   verbose=8)"
      ]
     },
     "execution_count": 13,
     "metadata": {},
     "output_type": "execute_result"
    }
   ],
   "source": [
    "# starting hyperparameter tuning\n",
    "\n",
    "# performing hyperparameter tuning with RandomizedSearchCV\n",
    "from sklearn.model_selection import RandomizedSearchCV\n",
    "\n",
    "# creating instance of RandomForest \n",
    "rf_random = RandomForestRegressor()\n",
    "\n",
    "# creating random parameter\n",
    "random_grid = {'bootstrap': [True, False],\n",
    " 'max_depth': [10, 20, 30, 40, 50, None], # maximum number of levels in each decision tree\n",
    " 'max_features': ['auto', 'sqrt'],\n",
    " 'min_samples_leaf': [1, 2, 4],\n",
    " 'min_samples_split': [2, 5, 7],\n",
    " 'n_estimators': [100,200]} # how many decision trees\n",
    "\n",
    "# create an instance of randomsearch csv\n",
    "rf_random = RandomizedSearchCV(estimator=rf_random,\n",
    "                               param_distributions=random_grid,\n",
    "                               n_iter=100,\n",
    "                               cv=3,\n",
    "                               verbose=8,\n",
    "                               n_jobs=-1)\n",
    "\n",
    "# starting the search\n",
    "rf_random.fit(X_train, y_train)"
   ]
  },
  {
   "cell_type": "code",
   "execution_count": 14,
   "metadata": {
    "colab": {
     "base_uri": "https://localhost:8080/"
    },
    "id": "rZZY7pSL8Kpb",
    "outputId": "aaadf028-6050-423e-ab83-66bf272e45cb"
   },
   "outputs": [
    {
     "data": {
      "text/plain": [
       "(RandomForestRegressor(bootstrap=False, max_features='sqrt', n_estimators=200),\n",
       " {'n_estimators': 200,\n",
       "  'min_samples_split': 2,\n",
       "  'min_samples_leaf': 1,\n",
       "  'max_features': 'sqrt',\n",
       "  'max_depth': None,\n",
       "  'bootstrap': False},\n",
       " 0.9268110495165862)"
      ]
     },
     "execution_count": 14,
     "metadata": {},
     "output_type": "execute_result"
    }
   ],
   "source": [
    "rf_random.best_estimator_, rf_random.best_params_, rf_random.best_score_"
   ]
  },
  {
   "cell_type": "code",
   "execution_count": 15,
   "metadata": {
    "colab": {
     "base_uri": "https://localhost:8080/"
    },
    "id": "1nX_sOjrA7OU",
    "outputId": "0db3861c-d8ee-4f54-c28c-8b67095e2dee"
   },
   "outputs": [
    {
     "data": {
      "text/plain": [
       "630.1722372935683"
      ]
     },
     "execution_count": 15,
     "metadata": {},
     "output_type": "execute_result"
    }
   ],
   "source": [
    "# checkig score of the randomly tune parameter\n",
    "# checkng traning error\n",
    "np.sqrt(mean_squared_error(y_train, rf_random.predict(X_train)))"
   ]
  },
  {
   "cell_type": "code",
   "execution_count": 16,
   "metadata": {
    "colab": {
     "base_uri": "https://localhost:8080/"
    },
    "id": "iWtlf_ZwBPAq",
    "outputId": "b9e8e145-aa68-4f74-9475-e75b6fa1d5f8"
   },
   "outputs": [
    {
     "data": {
      "text/plain": [
       "4177.223626978778"
      ]
     },
     "execution_count": 16,
     "metadata": {},
     "output_type": "execute_result"
    }
   ],
   "source": [
    "# checking the testing error\n",
    "np.sqrt(mean_squared_error(y_test, rf_random.predict(X_test)))"
   ]
  },
  {
   "cell_type": "markdown",
   "metadata": {
    "id": "JDqY1FjJB39Q"
   },
   "source": [
    "Looks like the model is still on overfit. It make traning error is `630` and testing error `4177`.\n",
    "\n",
    "Now I will try with `GridSearchCV`"
   ]
  },
  {
   "cell_type": "code",
   "execution_count": 17,
   "metadata": {
    "colab": {
     "base_uri": "https://localhost:8080/"
    },
    "id": "nTihgfC1BY4a",
    "outputId": "5d24fccc-7512-45c4-fb0b-7e281778c526"
   },
   "outputs": [
    {
     "name": "stdout",
     "output_type": "stream",
     "text": [
      "Fitting 3 folds for each of 54 candidates, totalling 162 fits\n"
     ]
    },
    {
     "name": "stderr",
     "output_type": "stream",
     "text": [
      "[Parallel(n_jobs=-1)]: Using backend LokyBackend with 8 concurrent workers.\n",
      "[Parallel(n_jobs=-1)]: Done   2 tasks      | elapsed:    0.3s\n",
      "[Parallel(n_jobs=-1)]: Done  25 tasks      | elapsed:    2.4s\n",
      "[Parallel(n_jobs=-1)]: Done  56 tasks      | elapsed:    4.7s\n",
      "[Parallel(n_jobs=-1)]: Done  97 tasks      | elapsed:   10.0s\n",
      "[Parallel(n_jobs=-1)]: Done 146 tasks      | elapsed:   14.5s\n",
      "[Parallel(n_jobs=-1)]: Done 162 out of 162 | elapsed:   17.0s finished\n"
     ]
    },
    {
     "data": {
      "text/plain": [
       "GridSearchCV(cv=3, estimator=RandomForestRegressor(), n_jobs=-1,\n",
       "             param_grid={'bootstrap': [False], 'max_depth': [25, 30, 35],\n",
       "                         'max_features': ['sqrt'], 'min_samples_leaf': [1, 2],\n",
       "                         'min_samples_split': [1, 2, 3],\n",
       "                         'n_estimators': [100, 150, 200]},\n",
       "             verbose=8)"
      ]
     },
     "execution_count": 17,
     "metadata": {},
     "output_type": "execute_result"
    }
   ],
   "source": [
    "# importing gridseach cv\n",
    "from sklearn.model_selection import GridSearchCV\n",
    "\n",
    "# create an instance of new model\n",
    "rf_grid_model = RandomForestRegressor()\n",
    "\n",
    "\n",
    "param_grid =  {'bootstrap': [False],\n",
    "  'max_depth': [25,30,35],\n",
    "  'max_features': ['sqrt'],\n",
    "  'min_samples_leaf': [1,2],\n",
    "  'min_samples_split': [1,2,3],\n",
    "  'n_estimators': [100,150,200]}\n",
    "\n",
    "\n",
    "# searchin for best paramete from neighbour of random search cv parameter\n",
    "rf_grid = GridSearchCV(estimator=rf_grid_model,\n",
    "                       param_grid=param_grid,\n",
    "                       cv=3,\n",
    "                       n_jobs=-1,\n",
    "                       verbose=8)\n",
    "\n",
    "\n",
    "# fitting on data\n",
    "rf_grid.fit(X_train, y_train)"
   ]
  },
  {
   "cell_type": "code",
   "execution_count": 18,
   "metadata": {
    "colab": {
     "base_uri": "https://localhost:8080/"
    },
    "id": "cuGX730aDUX4",
    "outputId": "3058d61a-39b8-48b1-9ed1-152b6bbbd593"
   },
   "outputs": [
    {
     "data": {
      "text/plain": [
       "(RandomForestRegressor(bootstrap=False, max_depth=35, max_features='sqrt',\n",
       "                       min_samples_split=3),\n",
       " {'bootstrap': False,\n",
       "  'max_depth': 35,\n",
       "  'max_features': 'sqrt',\n",
       "  'min_samples_leaf': 1,\n",
       "  'min_samples_split': 3,\n",
       "  'n_estimators': 100},\n",
       " 0.9279447777270847)"
      ]
     },
     "execution_count": 18,
     "metadata": {},
     "output_type": "execute_result"
    }
   ],
   "source": [
    "rf_grid.best_estimator_, rf_grid.best_params_, rf_grid.best_score_"
   ]
  },
  {
   "cell_type": "code",
   "execution_count": 19,
   "metadata": {
    "colab": {
     "base_uri": "https://localhost:8080/"
    },
    "id": "OtwEUMYGFqbJ",
    "outputId": "e44af7ff-6695-4606-bef3-536d08ddca5d"
   },
   "outputs": [
    {
     "data": {
      "text/plain": [
       "985.1383783844518"
      ]
     },
     "execution_count": 19,
     "metadata": {},
     "output_type": "execute_result"
    }
   ],
   "source": [
    "# checkig score of the randomly tune parameter\n",
    "# checkng traning error\n",
    "np.sqrt(mean_squared_error(y_train, rf_grid.predict(X_train)))"
   ]
  },
  {
   "cell_type": "code",
   "execution_count": 20,
   "metadata": {
    "colab": {
     "base_uri": "https://localhost:8080/"
    },
    "id": "sZC5Wb-cF3BK",
    "outputId": "67ed6fec-8dd9-445b-e33d-571263121fc6"
   },
   "outputs": [
    {
     "data": {
      "text/plain": [
       "4177.223626978778"
      ]
     },
     "execution_count": 20,
     "metadata": {},
     "output_type": "execute_result"
    }
   ],
   "source": [
    "# checking the testing error\n",
    "np.sqrt(mean_squared_error(y_test, rf_random.predict(X_test)))"
   ]
  },
  {
   "cell_type": "markdown",
   "metadata": {
    "id": "Fax3MpRvF46y"
   },
   "source": [
    "Looks like the problem arise on the total no of Decision tree on the internal model. The `n_estimators` hypaer parametr is want ot decrease to lowereing the variance.\n",
    "\n",
    "As i notice the all parametr works great but lower the `n_estimators`. The traning error is increased. So here i need to increase liitle bit traning error for lowering the variance."
   ]
  },
  {
   "cell_type": "markdown",
   "metadata": {
    "id": "Bxj0jRPjGlFk"
   },
   "source": [
    "#### Again i will try GridSearchCV for find the best model"
   ]
  },
  {
   "cell_type": "code",
   "execution_count": 21,
   "metadata": {
    "colab": {
     "base_uri": "https://localhost:8080/"
    },
    "id": "_Bv3Aug8F3aq",
    "outputId": "796f82e5-419f-4be0-ebed-e198f0b21266"
   },
   "outputs": [
    {
     "name": "stdout",
     "output_type": "stream",
     "text": [
      "Fitting 3 folds for each of 27 candidates, totalling 81 fits\n"
     ]
    },
    {
     "name": "stderr",
     "output_type": "stream",
     "text": [
      "[Parallel(n_jobs=-1)]: Using backend LokyBackend with 8 concurrent workers.\n",
      "[Parallel(n_jobs=-1)]: Done   2 tasks      | elapsed:    0.3s\n",
      "[Parallel(n_jobs=-1)]: Done  25 tasks      | elapsed:    1.9s\n",
      "[Parallel(n_jobs=-1)]: Done  56 tasks      | elapsed:    4.0s\n",
      "[Parallel(n_jobs=-1)]: Done  77 out of  81 | elapsed:    5.5s remaining:    0.2s\n",
      "[Parallel(n_jobs=-1)]: Done  81 out of  81 | elapsed:    5.8s finished\n"
     ]
    },
    {
     "data": {
      "text/plain": [
       "GridSearchCV(cv=3, estimator=RandomForestRegressor(), n_jobs=-1,\n",
       "             param_grid={'bootstrap': [False], 'max_depth': [28, 30, 32],\n",
       "                         'max_features': ['sqrt'], 'min_samples_leaf': [1],\n",
       "                         'min_samples_split': [2, 3, 4],\n",
       "                         'n_estimators': [50, 80, 100]},\n",
       "             verbose=8)"
      ]
     },
     "execution_count": 21,
     "metadata": {},
     "output_type": "execute_result"
    }
   ],
   "source": [
    "# create an instance of new model\n",
    "rf_grid_model_2 = RandomForestRegressor()\n",
    "\n",
    "\n",
    "param_grid_2 =  {'bootstrap': [False],\n",
    "  'max_depth': [28,30,32],\n",
    "  'max_features': ['sqrt'],\n",
    "  'min_samples_leaf': [1],\n",
    "  'min_samples_split': [2,3,4],\n",
    "  'n_estimators': [50,80,100]}\n",
    "\n",
    "\n",
    "# searchin for best paramete from neighbour of random search cv parameter\n",
    "rf_grid_2 = GridSearchCV(estimator=rf_grid_model_2,\n",
    "                       param_grid=param_grid_2,\n",
    "                       cv=3,\n",
    "                       n_jobs=-1,\n",
    "                       verbose=8)\n",
    "\n",
    "\n",
    "# fitting on data\n",
    "rf_grid_2.fit(X_train, y_train)"
   ]
  },
  {
   "cell_type": "code",
   "execution_count": 22,
   "metadata": {
    "colab": {
     "base_uri": "https://localhost:8080/"
    },
    "id": "p7FeqU5SIvog",
    "outputId": "223922b3-7b07-4d41-caa5-3c6d238c1cfb"
   },
   "outputs": [
    {
     "data": {
      "text/plain": [
       "(RandomForestRegressor(bootstrap=False, max_depth=30, max_features='sqrt',\n",
       "                       min_samples_split=3),\n",
       " {'bootstrap': False,\n",
       "  'max_depth': 30,\n",
       "  'max_features': 'sqrt',\n",
       "  'min_samples_leaf': 1,\n",
       "  'min_samples_split': 3,\n",
       "  'n_estimators': 100},\n",
       " 0.9282211100051705)"
      ]
     },
     "execution_count": 22,
     "metadata": {},
     "output_type": "execute_result"
    }
   ],
   "source": [
    "rf_grid_2.best_estimator_, rf_grid_2.best_params_, rf_grid_2.best_score_"
   ]
  },
  {
   "cell_type": "code",
   "execution_count": 23,
   "metadata": {
    "colab": {
     "base_uri": "https://localhost:8080/"
    },
    "id": "jDqsWsGJI09v",
    "outputId": "d9ae5ea2-d60c-46e7-83ac-52eb0075486a"
   },
   "outputs": [
    {
     "data": {
      "text/plain": [
       "997.3404495128468"
      ]
     },
     "execution_count": 23,
     "metadata": {},
     "output_type": "execute_result"
    }
   ],
   "source": [
    "# Checking traning error.\n",
    "np.sqrt(mean_squared_error(y_train, rf_grid_2.predict(X_train)))"
   ]
  },
  {
   "cell_type": "code",
   "execution_count": 24,
   "metadata": {
    "colab": {
     "base_uri": "https://localhost:8080/"
    },
    "id": "iOGuX-isI9o_",
    "outputId": "42b86fa1-3580-40a0-ba53-31b1fd50a79e"
   },
   "outputs": [
    {
     "data": {
      "text/plain": [
       "4332.846807196192"
      ]
     },
     "execution_count": 24,
     "metadata": {},
     "output_type": "execute_result"
    }
   ],
   "source": [
    "# checking testing error\n",
    "np.sqrt(mean_squared_error(y_test, rf_grid_2.predict(X_test)))"
   ]
  },
  {
   "cell_type": "markdown",
   "metadata": {
    "id": "QJ5dP8WhJFEP"
   },
   "source": [
    "#### Now this model can be used, although this not that much generalize error, there is lot difference in traning error and testing error. now i will go detail evalute process with this model `rf_grid_2`"
   ]
  },
  {
   "cell_type": "code",
   "execution_count": 25,
   "metadata": {
    "colab": {
     "base_uri": "https://localhost:8080/",
     "height": 464
    },
    "id": "vQ3DVGYQJliX",
    "outputId": "b0de8e56-bacf-4c6c-9db3-9c005137b53e"
   },
   "outputs": [
    {
     "data": {
      "image/png": "[encoded data removed]",
      "text/plain": [
       "<Figure size 1224x504 with 2 Axes>"
      ]
     },
     "metadata": {},
     "output_type": "display_data"
    }
   ],
   "source": [
    "# plotting the traning\n",
    "# check the prediction with the original values\n",
    "plt.figure(figsize=(17,7))\n",
    "y_pred_train = rf_grid_2.predict(X_train)\n",
    "plt.subplot(1,2,1)\n",
    "plt.scatter(y_train, y_pred_train, alpha=0.2);\n",
    "plt.xlabel('Targets (y_train)');\n",
    "plt.ylabel('Predictions (y_pred)');\n",
    "plt.title('Traning Time');\n",
    "\n",
    "# plotting testing error\n",
    "y_pred_test = rf_grid_2.predict(X_test)\n",
    "plt.subplot(1,2,2)\n",
    "plt.scatter(y_test, y_pred_test, alpha=0.2);\n",
    "plt.xlabel('Targets (y_test)');\n",
    "plt.ylabel('Predictions (y_pred_train)');\n",
    "plt.title('Testing Time');\n"
   ]
  },
  {
   "cell_type": "markdown",
   "metadata": {
    "id": "ND88pe7DKOoh"
   },
   "source": [
    "The traning error is very  lesss"
   ]
  },
  {
   "cell_type": "code",
   "execution_count": 28,
   "metadata": {
    "id": "MDsYsYo2KC3h"
   },
   "outputs": [
    {
     "name": "stdout",
     "output_type": "stream",
     "text": [
      "Traning r2_score: 0.9971892596436547\n",
      "Testing r2_score: 0.9536544314295627\n"
     ]
    }
   ],
   "source": [
    "# checking the score of the last model\n",
    "from sklearn.metrics import r2_score\n",
    "\n",
    "print(f'Traning r2_score: {r2_score(y_train, rf_grid_2.predict(X_train))}')\n",
    "print(f'Testing r2_score: {r2_score(y_test, rf_grid_2.predict(X_test))}')"
   ]
  },
  {
   "cell_type": "markdown",
   "metadata": {
    "id": "0kgNdYiRKvFZ"
   },
   "source": [
    "Not that much bad model i have created, But `RandomForest` outperform from `LinearRegression`"
   ]
  },
  {
   "cell_type": "markdown",
   "metadata": {
    "id": "LjX63CS9LDtS"
   },
   "source": [
    "# Now checking the residual"
   ]
  },
  {
   "cell_type": "code",
   "execution_count": 26,
   "metadata": {
    "colab": {
     "base_uri": "https://localhost:8080/",
     "height": 464
    },
    "id": "0VZ05XOvKYQK",
    "outputId": "c0814f8a-7dd4-4f8f-cb3b-792add420b04"
   },
   "outputs": [
    {
     "data": {
      "image/png": "[encoded data removed]",
      "text/plain": [
       "<Figure size 1224x504 with 2 Axes>"
      ]
     },
     "metadata": {},
     "output_type": "display_data"
    }
   ],
   "source": [
    "# plotting the distribution of the residual\n",
    "residual_train = (y_train - rf_grid_2.predict(X_train))\n",
    "residual_test = (y_test - rf_grid_2.predict(X_test))\n",
    "\n",
    "# ploting the distribution of the residual on training\n",
    "plt.figure(figsize=(17,7))\n",
    "plt.subplot(1,2,1)\n",
    "sns.distplot(residual_train);\n",
    "plt.title('Traning Residual PDF');\n",
    "\n",
    "# ploting the distribution of the residual\n",
    "plt.subplot(1,2,2)\n",
    "sns.distplot(residual_test);\n",
    "plt.title('Testting Residual PDF');"
   ]
  },
  {
   "cell_type": "markdown",
   "metadata": {
    "id": "Z-Iy-YX-Mhx2"
   },
   "source": [
    "Not that much Bad, and far better than `Linear Regression`.\n",
    "\n",
    "Most of the data are lie on `0`, it meas most of the cases it makes right decision."
   ]
  },
  {
   "cell_type": "markdown",
   "metadata": {
    "id": "eQn-Nf7DM48G"
   },
   "source": [
    "Creating df_eval like `Linear Regression`"
   ]
  },
  {
   "cell_type": "code",
   "execution_count": 29,
   "metadata": {
    "colab": {
     "base_uri": "https://localhost:8080/",
     "height": 417
    },
    "id": "TW2Vf7HQMfjH",
    "outputId": "ae672051-5ff8-48d0-bf9c-1c07174d4ba0"
   },
   "outputs": [
    {
     "data": {
      "text/html": [
       "<div>\n",
       "<style scoped>\n",
       "    .dataframe tbody tr th:only-of-type {\n",
       "        vertical-align: middle;\n",
       "    }\n",
       "\n",
       "    .dataframe tbody tr th {\n",
       "        vertical-align: top;\n",
       "    }\n",
       "\n",
       "    .dataframe thead th {\n",
       "        text-align: right;\n",
       "    }\n",
       "</style>\n",
       "<table border=\"1\" class=\"dataframe\">\n",
       "  <thead>\n",
       "    <tr style=\"text-align: right;\">\n",
       "      <th></th>\n",
       "      <th>Prediction</th>\n",
       "      <th>Tareget</th>\n",
       "      <th>Residual</th>\n",
       "      <th>Difference%</th>\n",
       "    </tr>\n",
       "  </thead>\n",
       "  <tbody>\n",
       "    <tr>\n",
       "      <th>0</th>\n",
       "      <td>18442.547050</td>\n",
       "      <td>19000.0</td>\n",
       "      <td>557.452950</td>\n",
       "      <td>2.933963</td>\n",
       "    </tr>\n",
       "    <tr>\n",
       "      <th>1</th>\n",
       "      <td>5007.635000</td>\n",
       "      <td>5500.0</td>\n",
       "      <td>492.365000</td>\n",
       "      <td>8.952091</td>\n",
       "    </tr>\n",
       "    <tr>\n",
       "      <th>2</th>\n",
       "      <td>25293.365000</td>\n",
       "      <td>19200.0</td>\n",
       "      <td>-6093.365000</td>\n",
       "      <td>31.736276</td>\n",
       "    </tr>\n",
       "    <tr>\n",
       "      <th>3</th>\n",
       "      <td>12028.780000</td>\n",
       "      <td>11900.0</td>\n",
       "      <td>-128.780000</td>\n",
       "      <td>1.082185</td>\n",
       "    </tr>\n",
       "    <tr>\n",
       "      <th>4</th>\n",
       "      <td>8179.210000</td>\n",
       "      <td>7750.0</td>\n",
       "      <td>-429.210000</td>\n",
       "      <td>5.538194</td>\n",
       "    </tr>\n",
       "    <tr>\n",
       "      <th>...</th>\n",
       "      <td>...</td>\n",
       "      <td>...</td>\n",
       "      <td>...</td>\n",
       "      <td>...</td>\n",
       "    </tr>\n",
       "    <tr>\n",
       "      <th>769</th>\n",
       "      <td>114516.485000</td>\n",
       "      <td>116500.0</td>\n",
       "      <td>1983.515000</td>\n",
       "      <td>1.702588</td>\n",
       "    </tr>\n",
       "    <tr>\n",
       "      <th>770</th>\n",
       "      <td>11287.315000</td>\n",
       "      <td>13200.0</td>\n",
       "      <td>1912.685000</td>\n",
       "      <td>14.490038</td>\n",
       "    </tr>\n",
       "    <tr>\n",
       "      <th>771</th>\n",
       "      <td>28266.666667</td>\n",
       "      <td>27500.0</td>\n",
       "      <td>-766.666667</td>\n",
       "      <td>2.787879</td>\n",
       "    </tr>\n",
       "    <tr>\n",
       "      <th>772</th>\n",
       "      <td>15174.740000</td>\n",
       "      <td>16500.0</td>\n",
       "      <td>1325.260000</td>\n",
       "      <td>8.031879</td>\n",
       "    </tr>\n",
       "    <tr>\n",
       "      <th>773</th>\n",
       "      <td>11653.545000</td>\n",
       "      <td>11900.0</td>\n",
       "      <td>246.455000</td>\n",
       "      <td>2.071050</td>\n",
       "    </tr>\n",
       "  </tbody>\n",
       "</table>\n",
       "<p>774 rows × 4 columns</p>\n",
       "</div>"
      ],
      "text/plain": [
       "        Prediction   Tareget     Residual  Difference%\n",
       "0     18442.547050   19000.0   557.452950     2.933963\n",
       "1      5007.635000    5500.0   492.365000     8.952091\n",
       "2     25293.365000   19200.0 -6093.365000    31.736276\n",
       "3     12028.780000   11900.0  -128.780000     1.082185\n",
       "4      8179.210000    7750.0  -429.210000     5.538194\n",
       "..             ...       ...          ...          ...\n",
       "769  114516.485000  116500.0  1983.515000     1.702588\n",
       "770   11287.315000   13200.0  1912.685000    14.490038\n",
       "771   28266.666667   27500.0  -766.666667     2.787879\n",
       "772   15174.740000   16500.0  1325.260000     8.031879\n",
       "773   11653.545000   11900.0   246.455000     2.071050\n",
       "\n",
       "[774 rows x 4 columns]"
      ]
     },
     "execution_count": 29,
     "metadata": {},
     "output_type": "execute_result"
    }
   ],
   "source": [
    "# Creating a dataframe to compare the result and prediction.\n",
    "df_eval = pd.DataFrame(rf_grid_2.predict(X_test), columns=['Prediction'])\n",
    "# adding column\n",
    "y_test = y_test.reset_index(drop=True)\n",
    "df_eval['Tareget'] = y_test\n",
    "\n",
    "# creating residual columns and difference column\n",
    "df_eval['Residual'] = df_eval['Tareget'] - df_eval['Prediction']\n",
    "df_eval['Difference%'] = np.absolute(df_eval['Residual'] / df_eval['Tareget']*100)\n",
    "# checking the performance data \n",
    "df_eval"
   ]
  },
  {
   "cell_type": "code",
   "execution_count": 30,
   "metadata": {
    "colab": {
     "base_uri": "https://localhost:8080/",
     "height": 295
    },
    "id": "83TQ07vgNPdf",
    "outputId": "7f84869d-408c-4331-a267-89d269ad9189"
   },
   "outputs": [
    {
     "data": {
      "text/html": [
       "<div>\n",
       "<style scoped>\n",
       "    .dataframe tbody tr th:only-of-type {\n",
       "        vertical-align: middle;\n",
       "    }\n",
       "\n",
       "    .dataframe tbody tr th {\n",
       "        vertical-align: top;\n",
       "    }\n",
       "\n",
       "    .dataframe thead th {\n",
       "        text-align: right;\n",
       "    }\n",
       "</style>\n",
       "<table border=\"1\" class=\"dataframe\">\n",
       "  <thead>\n",
       "    <tr style=\"text-align: right;\">\n",
       "      <th></th>\n",
       "      <th>Prediction</th>\n",
       "      <th>Tareget</th>\n",
       "      <th>Residual</th>\n",
       "      <th>Difference%</th>\n",
       "    </tr>\n",
       "  </thead>\n",
       "  <tbody>\n",
       "    <tr>\n",
       "      <th>count</th>\n",
       "      <td>774.000000</td>\n",
       "      <td>774.000000</td>\n",
       "      <td>774.000000</td>\n",
       "      <td>774.000000</td>\n",
       "    </tr>\n",
       "    <tr>\n",
       "      <th>mean</th>\n",
       "      <td>18762.718943</td>\n",
       "      <td>18602.017829</td>\n",
       "      <td>-160.701113</td>\n",
       "      <td>18.520332</td>\n",
       "    </tr>\n",
       "    <tr>\n",
       "      <th>std</th>\n",
       "      <td>19326.676235</td>\n",
       "      <td>20139.559184</td>\n",
       "      <td>4332.665441</td>\n",
       "      <td>46.874013</td>\n",
       "    </tr>\n",
       "    <tr>\n",
       "      <th>min</th>\n",
       "      <td>1896.925000</td>\n",
       "      <td>1200.000000</td>\n",
       "      <td>-28430.603200</td>\n",
       "      <td>0.000000</td>\n",
       "    </tr>\n",
       "    <tr>\n",
       "      <th>25%</th>\n",
       "      <td>7965.547500</td>\n",
       "      <td>7500.000000</td>\n",
       "      <td>-1358.652500</td>\n",
       "      <td>4.497781</td>\n",
       "    </tr>\n",
       "    <tr>\n",
       "      <th>50%</th>\n",
       "      <td>11824.402500</td>\n",
       "      <td>11900.000000</td>\n",
       "      <td>-233.797500</td>\n",
       "      <td>10.792991</td>\n",
       "    </tr>\n",
       "    <tr>\n",
       "      <th>75%</th>\n",
       "      <td>21854.718750</td>\n",
       "      <td>20999.060000</td>\n",
       "      <td>1049.648750</td>\n",
       "      <td>19.509675</td>\n",
       "    </tr>\n",
       "    <tr>\n",
       "      <th>max</th>\n",
       "      <td>125455.000000</td>\n",
       "      <td>125000.000000</td>\n",
       "      <td>47524.504200</td>\n",
       "      <td>960.911458</td>\n",
       "    </tr>\n",
       "  </tbody>\n",
       "</table>\n",
       "</div>"
      ],
      "text/plain": [
       "          Prediction        Tareget      Residual  Difference%\n",
       "count     774.000000     774.000000    774.000000   774.000000\n",
       "mean    18762.718943   18602.017829   -160.701113    18.520332\n",
       "std     19326.676235   20139.559184   4332.665441    46.874013\n",
       "min      1896.925000    1200.000000 -28430.603200     0.000000\n",
       "25%      7965.547500    7500.000000  -1358.652500     4.497781\n",
       "50%     11824.402500   11900.000000   -233.797500    10.792991\n",
       "75%     21854.718750   20999.060000   1049.648750    19.509675\n",
       "max    125455.000000  125000.000000  47524.504200   960.911458"
      ]
     },
     "execution_count": 30,
     "metadata": {},
     "output_type": "execute_result"
    }
   ],
   "source": [
    "df_eval.describe()"
   ]
  },
  {
   "cell_type": "markdown",
   "metadata": {
    "id": "t2Op8T_bNys3"
   },
   "source": [
    "The `Difference%` column is only interest, the differenc is far better than `Linear Regression`"
   ]
  },
  {
   "cell_type": "markdown",
   "metadata": {},
   "source": [
    "### The above model is overfit , choose to use the first base model."
   ]
  },
  {
   "cell_type": "code",
   "execution_count": 16,
   "metadata": {},
   "outputs": [
    {
     "data": {
      "text/plain": [
       "['rf1_base_rf.pkl']"
      ]
     },
     "execution_count": 16,
     "metadata": {},
     "output_type": "execute_result"
    }
   ],
   "source": [
    "import joblib\n",
    "\n",
    "# saving the first base model.\n",
    "joblib.dump(rf_1, 'rf1_base_rf.pkl', compress=3)"
   ]
  },
  {
   "cell_type": "code",
   "execution_count": null,
   "metadata": {},
   "outputs": [],
   "source": []
  }
 ],
 "metadata": {
  "colab": {
   "collapsed_sections": [],
   "name": "Random Forest 2 with model column_4241_test_error.ipynb",
   "provenance": []
  },
  "kernelspec": {
   "display_name": "Python 3",
   "language": "python",
   "name": "python3"
  },
  "language_info": {
   "codemirror_mode": {
    "name": "ipython",
    "version": 3
   },
   "file_extension": ".py",
   "mimetype": "text/x-python",
   "name": "python",
   "nbconvert_exporter": "python",
   "pygments_lexer": "ipython3",
   "version": "3.8.5"
  }
 },
 "nbformat": 4,
 "nbformat_minor": 1
}
